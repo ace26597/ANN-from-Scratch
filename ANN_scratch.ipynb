{
  "nbformat": 4,
  "nbformat_minor": 0,
  "metadata": {
    "colab": {
      "name": "ANN_scratch.ipynb",
      "provenance": [],
      "collapsed_sections": [],
      "authorship_tag": "ABX9TyNA8jA8FTCk2+w27n6RICSJ",
      "include_colab_link": true
    },
    "kernelspec": {
      "display_name": "Python 3",
      "name": "python3"
    }
  },
  "cells": [
    {
      "cell_type": "markdown",
      "metadata": {
        "id": "view-in-github",
        "colab_type": "text"
      },
      "source": [
        "<a href=\"https://colab.research.google.com/github/ace26597/ANN-from-Scratch/blob/main/ANN_scratch.ipynb\" target=\"_parent\"><img src=\"https://colab.research.google.com/assets/colab-badge.svg\" alt=\"Open In Colab\"/></a>"
      ]
    },
    {
      "cell_type": "code",
      "metadata": {
        "id": "bKZvFJaCcT8o"
      },
      "source": [
        "import numpy as np\n",
        "import pandas as pd\n",
        "import matplotlib.pyplot as plt\n",
        "from sklearn.model_selection import train_test_split\n",
        "import seaborn as sns\n",
        "from sklearn import preprocessing\n",
        "from sklearn.metrics import confusion_matrix\n",
        "from sklearn.model_selection import GridSearchCV\n",
        "from sklearn.model_selection import KFold, StratifiedKFold\n",
        "from sklearn.preprocessing import StandardScaler\n",
        "from sklearn.preprocessing import MinMaxScaler\n",
        "\n",
        "plt.style.use('seaborn-whitegrid')"
      ],
      "execution_count": null,
      "outputs": []
    },
    {
      "cell_type": "code",
      "metadata": {
        "id": "iXztC2p7cc7-",
        "colab": {
          "base_uri": "https://localhost:8080/"
        },
        "outputId": "e8054945-2fcd-4a87-d54d-9b1962f9d8c8"
      },
      "source": [
        "from google.colab import drive\n",
        "drive.mount('/content/drive')"
      ],
      "execution_count": null,
      "outputs": [
        {
          "output_type": "stream",
          "text": [
            "Mounted at /content/drive\n"
          ],
          "name": "stdout"
        }
      ]
    },
    {
      "cell_type": "markdown",
      "metadata": {
        "id": "74rAEqAyCOYT"
      },
      "source": [
        "---\n",
        "\n",
        "Step 1 :\n",
        "\n",
        "---\n",
        "\n"
      ]
    },
    {
      "cell_type": "code",
      "metadata": {
        "id": "htBsGKOJcfGu",
        "colab": {
          "base_uri": "https://localhost:8080/"
        },
        "outputId": "23124e04-b581-44bd-d842-cb52b2508323"
      },
      "source": [
        "dataset = pd.read_csv('drive/My Drive/Colab Data/Titanic.csv',usecols=[1,2,4,5,6])\n",
        "print(dataset.shape)\n",
        "print(dataset.isnull().sum(axis=0))\n",
        "dataset.dropna(inplace=True)\n",
        "dataset = pd.get_dummies(dataset, columns=['sex'])\n",
        "dataset.head()\n",
        "dataset = pd.get_dummies(dataset, columns=['pclass'])\n",
        "dataset.head()\n",
        "\n",
        "label_encoder = preprocessing.LabelEncoder()\n",
        "dataset['survived'] = label_encoder.fit_transform(dataset['survived'])\n",
        "print(dataset.head())\n",
        "print(dataset.shape)\n",
        "scaler = StandardScaler()\n",
        "scaler.fit_transform(dataset)"
      ],
      "execution_count": null,
      "outputs": [
        {
          "output_type": "stream",
          "text": [
            "(1309, 5)\n",
            "pclass        0\n",
            "survived      0\n",
            "sex           0\n",
            "age         263\n",
            "sibsp         0\n",
            "dtype: int64\n",
            "   survived      age  sibsp  ...  pclass_1st  pclass_2nd  pclass_3rd\n",
            "0         1  29.0000      0  ...           1           0           0\n",
            "1         1   0.9167      1  ...           1           0           0\n",
            "2         0   2.0000      1  ...           1           0           0\n",
            "3         0  30.0000      1  ...           1           0           0\n",
            "4         0  25.0000      1  ...           1           0           0\n",
            "\n",
            "[5 rows x 8 columns]\n",
            "(1046, 8)\n"
          ],
          "name": "stdout"
        },
        {
          "output_type": "execute_result",
          "data": {
            "text/plain": [
              "array([[ 1.20401358, -0.06116183, -0.55155301, ...,  1.63801666,\n",
              "        -0.57661432, -0.95878363],\n",
              "       [ 1.20401358, -2.01049644,  0.54526153, ...,  1.63801666,\n",
              "        -0.57661432, -0.95878363],\n",
              "       [-0.83055541, -1.93530178,  0.54526153, ...,  1.63801666,\n",
              "        -0.57661432, -0.95878363],\n",
              "       ...,\n",
              "       [-0.83055541, -0.23469331, -0.55155301, ..., -0.6104944 ,\n",
              "        -0.57661432,  1.04298818],\n",
              "       [-0.83055541, -0.19998701, -0.55155301, ..., -0.6104944 ,\n",
              "        -0.57661432,  1.04298818],\n",
              "       [-0.83055541, -0.06116183, -0.55155301, ..., -0.6104944 ,\n",
              "        -0.57661432,  1.04298818]])"
            ]
          },
          "metadata": {
            "tags": []
          },
          "execution_count": 3
        }
      ]
    },
    {
      "cell_type": "markdown",
      "metadata": {
        "id": "rshwHyuYCTCE"
      },
      "source": [
        "\n",
        "---\n",
        "\n",
        "Step 2 :\n",
        "\n",
        "---\n",
        "\n"
      ]
    },
    {
      "cell_type": "code",
      "metadata": {
        "id": "l8t2XhEee2fW",
        "colab": {
          "base_uri": "https://localhost:8080/"
        },
        "outputId": "dc44250a-fa47-4db8-9a96-60a22c6de695"
      },
      "source": [
        "X = dataset.iloc[:,1:]\n",
        "Y = dataset.iloc[:, 0] \n",
        "#print(X.head())\n",
        "#print(Y.head())\n",
        "X_train,X_test,Y_train,Y_test = train_test_split(X,Y,test_size = 0.2)\n",
        "print(X_train)\n",
        "del(X)\n",
        "del(Y)\n",
        "del(dataset)"
      ],
      "execution_count": null,
      "outputs": [
        {
          "output_type": "stream",
          "text": [
            "       age  sibsp  sex_female  sex_male  pclass_1st  pclass_2nd  pclass_3rd\n",
            "394   18.0      0           0         1           0           1           0\n",
            "797   40.5      0           0         1           0           0           1\n",
            "632   39.0      1           1         0           0           0           1\n",
            "788   45.0      0           0         1           0           0           1\n",
            "806   21.0      2           1         0           0           0           1\n",
            "...    ...    ...         ...       ...         ...         ...         ...\n",
            "220   22.0      0           1         0           1           0           0\n",
            "265   28.0      0           0         1           1           0           0\n",
            "392   24.0      1           1         0           0           1           0\n",
            "285   67.0      1           0         1           1           0           0\n",
            "1188  24.0      0           1         0           0           0           1\n",
            "\n",
            "[836 rows x 7 columns]\n"
          ],
          "name": "stdout"
        }
      ]
    },
    {
      "cell_type": "markdown",
      "metadata": {
        "id": "jYgJiUUICY2W"
      },
      "source": [
        "\n",
        "\n",
        "---\n",
        "\n",
        "Approach 1 :\n",
        "\n",
        "---\n",
        "\n"
      ]
    },
    {
      "cell_type": "code",
      "metadata": {
        "id": "6ffuzBR0CeZy",
        "colab": {
          "base_uri": "https://localhost:8080/"
        },
        "outputId": "53c48253-667c-4e21-da1a-b7790d10ede6"
      },
      "source": [
        "from sklearn.neural_network import MLPClassifier\n",
        "\n",
        "clf = MLPClassifier(activation='logistic',solver='adam',learning_rate='constant',momentum=0.9,alpha=0.0001,hidden_layer_sizes=(4, 2),max_iter=5000,random_state=0)\n",
        "clf.fit(X_train, Y_train)\n",
        "y_pred_train = clf.predict(X_train)\n",
        "y_pred_test = clf.predict(X_test)\n",
        "\n",
        "cf_train = confusion_matrix(Y_train, y_pred_train)\n",
        "cf_test = confusion_matrix(Y_test, y_pred_test)\n",
        "\n",
        "print(cf_train)\n",
        "print(cf_test)\n",
        "\n",
        "clf = MLPClassifier(activation='logistic',solver='adam',learning_rate='constant',momentum=0.9,alpha=0.0001,hidden_layer_sizes=(5, 5),max_iter=5000, random_state=0)\n",
        "clf.fit(X_train, Y_train)\n",
        "y_pred_train = clf.predict(X_train)\n",
        "y_pred_test = clf.predict(X_test)\n",
        "\n",
        "cf_train = confusion_matrix(Y_train, y_pred_train)\n",
        "cf_test = confusion_matrix(Y_test, y_pred_test)\n",
        "\n",
        "print(cf_train)\n",
        "print(cf_test)"
      ],
      "execution_count": null,
      "outputs": [
        {
          "output_type": "stream",
          "text": [
            "[[453  40]\n",
            " [135 208]]\n",
            "[[119   7]\n",
            " [ 31  53]]\n",
            "[[450  43]\n",
            " [128 215]]\n",
            "[[118   8]\n",
            " [ 29  55]]\n"
          ],
          "name": "stdout"
        }
      ]
    },
    {
      "cell_type": "markdown",
      "metadata": {
        "id": "--3y0YoTCevI"
      },
      "source": [
        "\n",
        "\n",
        "---\n",
        "\n",
        "Approach 2 :\n",
        "\n",
        "---\n",
        "\n"
      ]
    },
    {
      "cell_type": "code",
      "metadata": {
        "id": "AVrSZmRxdD4J",
        "colab": {
          "base_uri": "https://localhost:8080/",
          "height": 1000
        },
        "outputId": "6ae26474-abf6-4424-cda8-7bc29b95037a"
      },
      "source": [
        "class Layer:\n",
        "    def __init__(self, n_input, n_neurons, activation=None, weights=None, bias=None,last_weights=None):\n",
        "        self.weights = weights if weights is not None else 0.1*np.random.randn(n_input, n_neurons)\n",
        "        self.activation = activation\n",
        "        self.bias = bias if bias is not None else np.random.rand(n_neurons)\n",
        "        self.last_activation = None\n",
        "        self.error = None\n",
        "        self.delta = None\n",
        "        print(\"Layer = \",self.weights,self.activation,self.bias)\n",
        "\n",
        "    def activate(self, x):\n",
        "        r = np.dot(x, self.weights) + self.bias\n",
        "        self.last_activation = self._apply_activation(r)\n",
        "        return self.last_activation\n",
        "\n",
        "    def _apply_activation(self, r):\n",
        "        if self.activation is None:\n",
        "          return r\n",
        "        return 1 / (1 + np.exp(-r))\n",
        "\n",
        "    def apply_activation_derivative(self, r):\n",
        "        if self.activation is None:\n",
        "          return r\n",
        "        return r * (1 - r)\n",
        "\n",
        "\n",
        "class NeuralNetwork:\n",
        "    def __init__(self):\n",
        "        self._layers = []\n",
        "\n",
        "    def add_layer(self, layer):\n",
        "        self._layers.append(layer)\n",
        "\n",
        "    def feed_forward(self, X):\n",
        "        for layer in self._layers:\n",
        "            X = layer.activate(X)\n",
        "        return X\n",
        "\n",
        "    def predict(self, X):\n",
        "        ff = self.feed_forward(X)\n",
        "        return np.argmax(ff, axis=1)\n",
        "\n",
        "    def backpropagation(self, X, y, learning_rate, momentum):\n",
        "        # Feed forward for the output\n",
        "        alpha = 0.8\n",
        "        output = self.feed_forward(X)\n",
        "        # Loop over the layers backward\n",
        "\n",
        "        for i in reversed(range(len(self._layers))):\n",
        "            layer = self._layers[i]\n",
        "\n",
        "            if layer == self._layers[-1]:\n",
        "                layer.error = y - output\n",
        "                # The output = layer.last_activation in this case\n",
        "                layer.delta = layer.error * layer.apply_activation_derivative(output)\n",
        "            else:\n",
        "                next_layer = self._layers[i + 1]\n",
        "                layer.error = alpha * np.dot(next_layer.weights, next_layer.delta)\n",
        "                layer.delta = layer.error * layer.apply_activation_derivative(layer.last_activation)\n",
        "\n",
        "        # Update the weights\n",
        "        prev_weight=[[],[],[]]\n",
        "        prev_weight[0] =  0*np.random.randn(7, 4)\n",
        "        prev_weight[1] =  0*np.random.randn(4, 3)\n",
        "        prev_weight[2] =  0*np.random.randn(3, 2)\n",
        "        for i in range(len(self._layers)):\n",
        "            layer = self._layers[i]\n",
        "            input_to_use = np.atleast_2d(X if i == 0 else self._layers[i - 1].last_activation)\n",
        "            momentum_term = momentum * prev_weight[i]\n",
        "            layer.weights = layer.weights + (layer.delta * input_to_use.T * learning_rate) + momentum_term \n",
        "            prev_weight[i] = layer.weights\n",
        "    \n",
        "\n",
        "    def train(self, X, y, learning_rate, max_epochs,momentum):\n",
        "        mses = []\n",
        "        for i in range(max_epochs):\n",
        "            for j in range(len(X)):\n",
        "                self.backpropagation(X[j], y[j], learning_rate,momentum)\n",
        "            if i % 100 == 0:\n",
        "                mse = np.mean(np.square(y - np.argmax(nn.feed_forward(X),axis=1)))\n",
        "                mses.append(mse)\n",
        "                print('Epoch: #%s, mse: %f' % (i, float(mse)))\n",
        "        return mses\n",
        "\n",
        "    @staticmethod\n",
        "    def accuracy(y_pred, y_true):\n",
        "        return (y_pred == y_true).mean()\n",
        "\n",
        "nn = NeuralNetwork()\n",
        "nn.add_layer(Layer(7, 4, 'sigmoid'))\n",
        "nn.add_layer(Layer(4, 3, 'sigmoid'))\n",
        "nn.add_layer(Layer(3, 2, 'sigmoid'))\n",
        "\n",
        "momentum = 0.8\n",
        "learning_rate = 0.0002\n",
        "epochs = 5000\n",
        "# Train the neural network\n",
        "X_train = np.array(X_train)\n",
        "Y_train = np.array(Y_train)\n",
        "errors = nn.train(X_train, Y_train, learning_rate, epochs,momentum)\n",
        "\n",
        "y_pred_train = nn.predict(X_train)\n",
        "y_pred_test = nn.predict(X_test)\n",
        "\n",
        "print('Accuracy: %.2f%%' % (nn.accuracy(y_pred_train, Y_train) * 100))\n",
        "print('Accuracy: %.2f%%' % (nn.accuracy(y_pred_test, Y_test) * 100))\n",
        "cf_train = confusion_matrix(Y_train, y_pred_train)\n",
        "cf_test = confusion_matrix(Y_test, y_pred_test)\n",
        "print(cf_train)\n",
        "print(cf_test)\n",
        "# Plot changes in mse\n",
        "plt.plot(errors)\n",
        "plt.title('Changes in mse')\n",
        "plt.xlabel('Epoch (every 100th)')\n",
        "plt.ylabel('mse')\n",
        "plt.show()"
      ],
      "execution_count": null,
      "outputs": [
        {
          "output_type": "stream",
          "text": [
            "Layer =  [[ 0.08631611  0.0526686   0.08452122  0.02646817]\n",
            " [ 0.21748061  0.01660202  0.1372485   0.12617361]\n",
            " [ 0.03289277  0.05080873  0.147105    0.03261403]\n",
            " [ 0.01814004 -0.10691611 -0.02394597 -0.06339683]\n",
            " [ 0.05736774 -0.01219454  0.05177315 -0.00772514]\n",
            " [ 0.18268422 -0.14797975 -0.11154945  0.10686284]\n",
            " [ 0.02970203 -0.01428433  0.15330285 -0.07118626]] sigmoid [0.92506397 0.97518028 0.78916835 0.02509853]\n",
            "Layer =  [[ 0.0999636  -0.00862195 -0.14596505]\n",
            " [-0.01524245 -0.00056007  0.00646291]\n",
            " [-0.02498409  0.03102349  0.04549201]\n",
            " [-0.04427065  0.08781915 -0.0403931 ]] sigmoid [0.49512521 0.24187534 0.15905624]\n",
            "Layer =  [[ 0.03065182  0.07431357]\n",
            " [ 0.07772381  0.05629812]\n",
            " [-0.06712452  0.06764023]] sigmoid [0.3567814  0.45932602]\n",
            "Epoch: #0, mse: 0.594498\n",
            "Epoch: #100, mse: 0.594498\n",
            "Epoch: #200, mse: 0.594498\n",
            "Epoch: #300, mse: 0.594498\n",
            "Epoch: #400, mse: 0.594498\n",
            "Epoch: #500, mse: 0.549043\n",
            "Epoch: #600, mse: 0.497608\n",
            "Epoch: #700, mse: 0.483254\n",
            "Epoch: #800, mse: 0.477273\n",
            "Epoch: #900, mse: 0.471292\n",
            "Epoch: #1000, mse: 0.462919\n",
            "Epoch: #1100, mse: 0.461722\n",
            "Epoch: #1200, mse: 0.458134\n",
            "Epoch: #1300, mse: 0.458134\n",
            "Epoch: #1400, mse: 0.458134\n",
            "Epoch: #1500, mse: 0.460526\n",
            "Epoch: #1600, mse: 0.461722\n",
            "Epoch: #1700, mse: 0.464115\n",
            "Epoch: #1800, mse: 0.464115\n",
            "Epoch: #1900, mse: 0.462919\n",
            "Epoch: #2000, mse: 0.462919\n",
            "Epoch: #2100, mse: 0.462919\n",
            "Epoch: #2200, mse: 0.461722\n",
            "Epoch: #2300, mse: 0.461722\n",
            "Epoch: #2400, mse: 0.447368\n",
            "Epoch: #2500, mse: 0.447368\n",
            "Epoch: #2600, mse: 0.447368\n",
            "Epoch: #2700, mse: 0.447368\n",
            "Epoch: #2800, mse: 0.449761\n",
            "Epoch: #2900, mse: 0.449761\n",
            "Epoch: #3000, mse: 0.448565\n",
            "Epoch: #3100, mse: 0.448565\n",
            "Epoch: #3200, mse: 0.448565\n",
            "Epoch: #3300, mse: 0.448565\n",
            "Epoch: #3400, mse: 0.448565\n",
            "Epoch: #3500, mse: 0.449761\n",
            "Epoch: #3600, mse: 0.449761\n",
            "Epoch: #3700, mse: 0.450957\n",
            "Epoch: #3800, mse: 0.450957\n",
            "Epoch: #3900, mse: 0.450957\n",
            "Epoch: #4000, mse: 0.440191\n",
            "Epoch: #4100, mse: 0.440191\n",
            "Epoch: #4200, mse: 0.440191\n",
            "Epoch: #4300, mse: 0.440191\n",
            "Epoch: #4400, mse: 0.440191\n",
            "Epoch: #4500, mse: 0.440191\n",
            "Epoch: #4600, mse: 0.440191\n",
            "Epoch: #4700, mse: 0.440191\n",
            "Epoch: #4800, mse: 0.440191\n",
            "Epoch: #4900, mse: 0.438995\n",
            "Accuracy: 55.98%\n",
            "Accuracy: 60.95%\n",
            "[[387 110]\n",
            " [258  81]]\n",
            "[[102  20]\n",
            " [ 62  26]]\n"
          ],
          "name": "stdout"
        },
        {
          "output_type": "display_data",
          "data": {
            "image/png": "[encoded data removed]",
            "text/plain": [
              "<Figure size 432x288 with 1 Axes>"
            ]
          },
          "metadata": {
            "tags": []
          }
        }
      ]
    }
  ]
}